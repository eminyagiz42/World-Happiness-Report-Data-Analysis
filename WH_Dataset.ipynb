{
 "cells": [
  {
   "cell_type": "code",
   "execution_count": 1,
   "metadata": {},
   "outputs": [],
   "source": [
    "#Libraries \n",
    "import pandas as pd\n",
    "from math import sqrt\n",
    "from sklearn.metrics import mean_absolute_error\n",
    "from sklearn.metrics import mean_squared_error\n",
    "from sklearn.model_selection import train_test_split\n",
    "from sklearn.linear_model import LinearRegression\n",
    "from sklearn.preprocessing import StandardScaler\n",
    "import seaborn as sns"
   ]
  },
  {
   "cell_type": "code",
   "execution_count": 2,
   "metadata": {},
   "outputs": [],
   "source": [
    "#Reading CSV Files\n",
    "hap_15 = pd.read_csv(\"2015.csv\")\n",
    "hap_16 = pd.read_csv(\"2016.csv\")\n",
    "hap_17 = pd.read_csv(\"2017.csv\")"
   ]
  },
  {
   "cell_type": "code",
   "execution_count": 3,
   "metadata": {
    "scrolled": true
   },
   "outputs": [
    {
     "data": {
      "text/html": [
       "<div>\n",
       "<style scoped>\n",
       "    .dataframe tbody tr th:only-of-type {\n",
       "        vertical-align: middle;\n",
       "    }\n",
       "\n",
       "    .dataframe tbody tr th {\n",
       "        vertical-align: top;\n",
       "    }\n",
       "\n",
       "    .dataframe thead th {\n",
       "        text-align: right;\n",
       "    }\n",
       "</style>\n",
       "<table border=\"1\" class=\"dataframe\">\n",
       "  <thead>\n",
       "    <tr style=\"text-align: right;\">\n",
       "      <th></th>\n",
       "      <th>Happiness Score</th>\n",
       "      <th>Economy (GDP per Capita)</th>\n",
       "      <th>Family</th>\n",
       "      <th>Health (Life Expectancy)</th>\n",
       "      <th>Freedom</th>\n",
       "      <th>Trust (Government Corruption)</th>\n",
       "      <th>Generosity</th>\n",
       "      <th>Dystopia Residual</th>\n",
       "    </tr>\n",
       "  </thead>\n",
       "  <tbody>\n",
       "    <tr>\n",
       "      <th>142</th>\n",
       "      <td>3.575</td>\n",
       "      <td>0.31982</td>\n",
       "      <td>0.30285</td>\n",
       "      <td>0.30335</td>\n",
       "      <td>0.23414</td>\n",
       "      <td>0.09719</td>\n",
       "      <td>0.36510</td>\n",
       "      <td>1.95210</td>\n",
       "    </tr>\n",
       "    <tr>\n",
       "      <th>90</th>\n",
       "      <td>4.959</td>\n",
       "      <td>0.87867</td>\n",
       "      <td>0.80434</td>\n",
       "      <td>0.81325</td>\n",
       "      <td>0.35733</td>\n",
       "      <td>0.06413</td>\n",
       "      <td>0.14272</td>\n",
       "      <td>1.89894</td>\n",
       "    </tr>\n",
       "    <tr>\n",
       "      <th>65</th>\n",
       "      <td>5.605</td>\n",
       "      <td>0.93929</td>\n",
       "      <td>1.07772</td>\n",
       "      <td>0.61766</td>\n",
       "      <td>0.28579</td>\n",
       "      <td>0.17383</td>\n",
       "      <td>0.07822</td>\n",
       "      <td>2.43209</td>\n",
       "    </tr>\n",
       "    <tr>\n",
       "      <th>128</th>\n",
       "      <td>4.033</td>\n",
       "      <td>0.75778</td>\n",
       "      <td>0.86040</td>\n",
       "      <td>0.16683</td>\n",
       "      <td>0.10384</td>\n",
       "      <td>0.07122</td>\n",
       "      <td>0.12344</td>\n",
       "      <td>1.94939</td>\n",
       "    </tr>\n",
       "    <tr>\n",
       "      <th>28</th>\n",
       "      <td>6.574</td>\n",
       "      <td>1.05351</td>\n",
       "      <td>1.24823</td>\n",
       "      <td>0.78723</td>\n",
       "      <td>0.44974</td>\n",
       "      <td>0.08484</td>\n",
       "      <td>0.11451</td>\n",
       "      <td>2.83600</td>\n",
       "    </tr>\n",
       "  </tbody>\n",
       "</table>\n",
       "</div>"
      ],
      "text/plain": [
       "     Happiness Score  Economy (GDP per Capita)   Family  \\\n",
       "142            3.575                   0.31982  0.30285   \n",
       "90             4.959                   0.87867  0.80434   \n",
       "65             5.605                   0.93929  1.07772   \n",
       "128            4.033                   0.75778  0.86040   \n",
       "28             6.574                   1.05351  1.24823   \n",
       "\n",
       "     Health (Life Expectancy)  Freedom  Trust (Government Corruption)  \\\n",
       "142                   0.30335  0.23414                        0.09719   \n",
       "90                    0.81325  0.35733                        0.06413   \n",
       "65                    0.61766  0.28579                        0.17383   \n",
       "128                   0.16683  0.10384                        0.07122   \n",
       "28                    0.78723  0.44974                        0.08484   \n",
       "\n",
       "     Generosity  Dystopia Residual  \n",
       "142     0.36510            1.95210  \n",
       "90      0.14272            1.89894  \n",
       "65      0.07822            2.43209  \n",
       "128     0.12344            1.94939  \n",
       "28      0.11451            2.83600  "
      ]
     },
     "execution_count": 3,
     "metadata": {},
     "output_type": "execute_result"
    }
   ],
   "source": [
    "#Data Preperation\n",
    "hap_15.columns\n",
    "columns_2015 = ['Region', 'Standard Error',]\n",
    "new_2015 = hap_15.drop(columns_2015, axis=1)\n",
    "sort0_2015 = new_2015.sort_values(by=['Country'])\n",
    "Column = ['Country','Happiness Rank']\n",
    "sort_2015 = sort0_2015.drop(Column, axis=1)\n",
    "sort_2015.head()"
   ]
  },
  {
   "cell_type": "code",
   "execution_count": 4,
   "metadata": {},
   "outputs": [
    {
     "data": {
      "text/html": [
       "<div>\n",
       "<style scoped>\n",
       "    .dataframe tbody tr th:only-of-type {\n",
       "        vertical-align: middle;\n",
       "    }\n",
       "\n",
       "    .dataframe tbody tr th {\n",
       "        vertical-align: top;\n",
       "    }\n",
       "\n",
       "    .dataframe thead th {\n",
       "        text-align: right;\n",
       "    }\n",
       "</style>\n",
       "<table border=\"1\" class=\"dataframe\">\n",
       "  <thead>\n",
       "    <tr style=\"text-align: right;\">\n",
       "      <th></th>\n",
       "      <th>Happiness Score</th>\n",
       "      <th>Economy (GDP per Capita)</th>\n",
       "      <th>Family</th>\n",
       "      <th>Health (Life Expectancy)</th>\n",
       "      <th>Freedom</th>\n",
       "      <th>Trust (Government Corruption)</th>\n",
       "      <th>Generosity</th>\n",
       "      <th>Dystopia Residual</th>\n",
       "    </tr>\n",
       "  </thead>\n",
       "  <tbody>\n",
       "    <tr>\n",
       "      <th>144</th>\n",
       "      <td>3.360</td>\n",
       "      <td>0.38227</td>\n",
       "      <td>0.11037</td>\n",
       "      <td>0.17344</td>\n",
       "      <td>0.16430</td>\n",
       "      <td>0.07112</td>\n",
       "      <td>0.31268</td>\n",
       "      <td>2.14558</td>\n",
       "    </tr>\n",
       "    <tr>\n",
       "      <th>102</th>\n",
       "      <td>4.655</td>\n",
       "      <td>0.95530</td>\n",
       "      <td>0.50163</td>\n",
       "      <td>0.73007</td>\n",
       "      <td>0.31866</td>\n",
       "      <td>0.05301</td>\n",
       "      <td>0.16840</td>\n",
       "      <td>1.92816</td>\n",
       "    </tr>\n",
       "    <tr>\n",
       "      <th>36</th>\n",
       "      <td>6.355</td>\n",
       "      <td>1.05266</td>\n",
       "      <td>0.83309</td>\n",
       "      <td>0.61804</td>\n",
       "      <td>0.21006</td>\n",
       "      <td>0.16157</td>\n",
       "      <td>0.07044</td>\n",
       "      <td>3.40904</td>\n",
       "    </tr>\n",
       "    <tr>\n",
       "      <th>132</th>\n",
       "      <td>3.866</td>\n",
       "      <td>0.84731</td>\n",
       "      <td>0.66366</td>\n",
       "      <td>0.04991</td>\n",
       "      <td>0.00589</td>\n",
       "      <td>0.08434</td>\n",
       "      <td>0.12071</td>\n",
       "      <td>2.09459</td>\n",
       "    </tr>\n",
       "    <tr>\n",
       "      <th>24</th>\n",
       "      <td>6.650</td>\n",
       "      <td>1.15137</td>\n",
       "      <td>1.06612</td>\n",
       "      <td>0.69711</td>\n",
       "      <td>0.42284</td>\n",
       "      <td>0.07296</td>\n",
       "      <td>0.10989</td>\n",
       "      <td>3.12985</td>\n",
       "    </tr>\n",
       "  </tbody>\n",
       "</table>\n",
       "</div>"
      ],
      "text/plain": [
       "     Happiness Score  Economy (GDP per Capita)   Family  \\\n",
       "144            3.360                   0.38227  0.11037   \n",
       "102            4.655                   0.95530  0.50163   \n",
       "36             6.355                   1.05266  0.83309   \n",
       "132            3.866                   0.84731  0.66366   \n",
       "24             6.650                   1.15137  1.06612   \n",
       "\n",
       "     Health (Life Expectancy)  Freedom  Trust (Government Corruption)  \\\n",
       "144                   0.17344  0.16430                        0.07112   \n",
       "102                   0.73007  0.31866                        0.05301   \n",
       "36                    0.61804  0.21006                        0.16157   \n",
       "132                   0.04991  0.00589                        0.08434   \n",
       "24                    0.69711  0.42284                        0.07296   \n",
       "\n",
       "     Generosity  Dystopia Residual  \n",
       "144     0.31268            2.14558  \n",
       "102     0.16840            1.92816  \n",
       "36      0.07044            3.40904  \n",
       "132     0.12071            2.09459  \n",
       "24      0.10989            3.12985  "
      ]
     },
     "execution_count": 4,
     "metadata": {},
     "output_type": "execute_result"
    }
   ],
   "source": [
    "hap_16.columns\n",
    "columns_2016 = ['Region', 'Lower Confidence Interval','Upper Confidence Interval' ]\n",
    "new_2016 = hap_16.drop(columns_2016, axis=1)\n",
    "sort0_2016 = new_2016.sort_values(by=['Country'])\n",
    "Column = ['Country','Happiness Rank']\n",
    "sort_2016 = sort0_2016.drop(Column, axis=1)\n",
    "sort_2016.head()"
   ]
  },
  {
   "cell_type": "code",
   "execution_count": 5,
   "metadata": {},
   "outputs": [
    {
     "data": {
      "text/html": [
       "<div>\n",
       "<style scoped>\n",
       "    .dataframe tbody tr th:only-of-type {\n",
       "        vertical-align: middle;\n",
       "    }\n",
       "\n",
       "    .dataframe tbody tr th {\n",
       "        vertical-align: top;\n",
       "    }\n",
       "\n",
       "    .dataframe thead th {\n",
       "        text-align: right;\n",
       "    }\n",
       "</style>\n",
       "<table border=\"1\" class=\"dataframe\">\n",
       "  <thead>\n",
       "    <tr style=\"text-align: right;\">\n",
       "      <th></th>\n",
       "      <th>Happiness Score</th>\n",
       "      <th>Economy (GDP per Capita)</th>\n",
       "      <th>Family</th>\n",
       "      <th>Health (Life Expectancy)</th>\n",
       "      <th>Freedom</th>\n",
       "      <th>Generosity</th>\n",
       "      <th>Trust (Government Corruption)</th>\n",
       "      <th>Dystopia Residual</th>\n",
       "    </tr>\n",
       "  </thead>\n",
       "  <tbody>\n",
       "    <tr>\n",
       "      <th>134</th>\n",
       "      <td>3.794</td>\n",
       "      <td>0.401477</td>\n",
       "      <td>0.581543</td>\n",
       "      <td>0.180747</td>\n",
       "      <td>0.106180</td>\n",
       "      <td>0.311871</td>\n",
       "      <td>0.061158</td>\n",
       "      <td>2.150801</td>\n",
       "    </tr>\n",
       "    <tr>\n",
       "      <th>106</th>\n",
       "      <td>4.644</td>\n",
       "      <td>0.996193</td>\n",
       "      <td>0.803685</td>\n",
       "      <td>0.731160</td>\n",
       "      <td>0.381499</td>\n",
       "      <td>0.201313</td>\n",
       "      <td>0.039864</td>\n",
       "      <td>1.490442</td>\n",
       "    </tr>\n",
       "    <tr>\n",
       "      <th>51</th>\n",
       "      <td>5.872</td>\n",
       "      <td>1.091864</td>\n",
       "      <td>1.146217</td>\n",
       "      <td>0.617585</td>\n",
       "      <td>0.233336</td>\n",
       "      <td>0.069437</td>\n",
       "      <td>0.146096</td>\n",
       "      <td>2.567604</td>\n",
       "    </tr>\n",
       "    <tr>\n",
       "      <th>133</th>\n",
       "      <td>3.795</td>\n",
       "      <td>0.858428</td>\n",
       "      <td>1.104412</td>\n",
       "      <td>0.049869</td>\n",
       "      <td>0.000000</td>\n",
       "      <td>0.097926</td>\n",
       "      <td>0.069720</td>\n",
       "      <td>1.614482</td>\n",
       "    </tr>\n",
       "    <tr>\n",
       "      <th>23</th>\n",
       "      <td>6.599</td>\n",
       "      <td>1.185295</td>\n",
       "      <td>1.440451</td>\n",
       "      <td>0.695137</td>\n",
       "      <td>0.494519</td>\n",
       "      <td>0.109457</td>\n",
       "      <td>0.059740</td>\n",
       "      <td>2.614005</td>\n",
       "    </tr>\n",
       "  </tbody>\n",
       "</table>\n",
       "</div>"
      ],
      "text/plain": [
       "     Happiness Score  Economy (GDP per Capita)    Family  \\\n",
       "134            3.794                  0.401477  0.581543   \n",
       "106            4.644                  0.996193  0.803685   \n",
       "51             5.872                  1.091864  1.146217   \n",
       "133            3.795                  0.858428  1.104412   \n",
       "23             6.599                  1.185295  1.440451   \n",
       "\n",
       "     Health (Life Expectancy)   Freedom  Generosity  \\\n",
       "134                  0.180747  0.106180    0.311871   \n",
       "106                  0.731160  0.381499    0.201313   \n",
       "51                   0.617585  0.233336    0.069437   \n",
       "133                  0.049869  0.000000    0.097926   \n",
       "23                   0.695137  0.494519    0.109457   \n",
       "\n",
       "     Trust (Government Corruption)  Dystopia Residual  \n",
       "134                       0.061158           2.150801  \n",
       "106                       0.039864           1.490442  \n",
       "51                        0.146096           2.567604  \n",
       "133                       0.069720           1.614482  \n",
       "23                        0.059740           2.614005  "
      ]
     },
     "execution_count": 5,
     "metadata": {},
     "output_type": "execute_result"
    }
   ],
   "source": [
    "hap_17.columns\n",
    "columns_2017 = ['Whisker.high','Whisker.low' ]\n",
    "new_2017 = hap_17.drop(columns_2017, axis=1)\n",
    "sort0_2017 = new_2017.sort_values(by=['Country'])\n",
    "Column = ['Country','Happiness Rank']\n",
    "sort_2017 = sort0_2017.drop(Column, axis=1)\n",
    "sort_2017.head()"
   ]
  },
  {
   "cell_type": "code",
   "execution_count": 6,
   "metadata": {},
   "outputs": [
    {
     "name": "stdout",
     "output_type": "stream",
     "text": [
      "Happiness Score                  False\n",
      "Economy (GDP per Capita)         False\n",
      "Family                           False\n",
      "Health (Life Expectancy)         False\n",
      "Freedom                          False\n",
      "Trust (Government Corruption)    False\n",
      "Generosity                       False\n",
      "Dystopia Residual                False\n",
      "dtype: bool\n",
      "Happiness Score                  False\n",
      "Economy (GDP per Capita)         False\n",
      "Family                           False\n",
      "Health (Life Expectancy)         False\n",
      "Freedom                          False\n",
      "Trust (Government Corruption)    False\n",
      "Generosity                       False\n",
      "Dystopia Residual                False\n",
      "dtype: bool\n",
      "Happiness Score                  False\n",
      "Economy (GDP per Capita)         False\n",
      "Family                           False\n",
      "Health (Life Expectancy)         False\n",
      "Freedom                          False\n",
      "Generosity                       False\n",
      "Trust (Government Corruption)    False\n",
      "Dystopia Residual                False\n",
      "dtype: bool\n"
     ]
    }
   ],
   "source": [
    "print(sort_2015.isnull().any())\n",
    "print(sort_2016.isnull().any())\n",
    "print(sort_2017.isnull().any())"
   ]
  },
  {
   "cell_type": "code",
   "execution_count": 7,
   "metadata": {},
   "outputs": [],
   "source": [
    "#I noticed some countries are not in the all of the years. So, i removed the rows from csv file by excel. \n",
    "#Now, each csv file containes 148 entries and 8 column"
   ]
  },
  {
   "cell_type": "code",
   "execution_count": 8,
   "metadata": {
    "scrolled": false
   },
   "outputs": [
    {
     "name": "stdout",
     "output_type": "stream",
     "text": [
      "<class 'pandas.core.frame.DataFrame'>\n",
      "Int64Index: 148 entries, 142 to 107\n",
      "Data columns (total 8 columns):\n",
      "Happiness Score                  148 non-null float64\n",
      "Economy (GDP per Capita)         148 non-null float64\n",
      "Family                           148 non-null float64\n",
      "Health (Life Expectancy)         148 non-null float64\n",
      "Freedom                          148 non-null float64\n",
      "Trust (Government Corruption)    148 non-null float64\n",
      "Generosity                       148 non-null float64\n",
      "Dystopia Residual                148 non-null float64\n",
      "dtypes: float64(8)\n",
      "memory usage: 10.4 KB\n",
      "<class 'pandas.core.frame.DataFrame'>\n",
      "Int64Index: 148 entries, 144 to 123\n",
      "Data columns (total 8 columns):\n",
      "Happiness Score                  148 non-null float64\n",
      "Economy (GDP per Capita)         148 non-null float64\n",
      "Family                           148 non-null float64\n",
      "Health (Life Expectancy)         148 non-null float64\n",
      "Freedom                          148 non-null float64\n",
      "Trust (Government Corruption)    148 non-null float64\n",
      "Generosity                       148 non-null float64\n",
      "Dystopia Residual                148 non-null float64\n",
      "dtypes: float64(8)\n",
      "memory usage: 10.4 KB\n",
      "<class 'pandas.core.frame.DataFrame'>\n",
      "Int64Index: 148 entries, 134 to 132\n",
      "Data columns (total 8 columns):\n",
      "Happiness Score                  148 non-null float64\n",
      "Economy (GDP per Capita)         148 non-null float64\n",
      "Family                           148 non-null float64\n",
      "Health (Life Expectancy)         148 non-null float64\n",
      "Freedom                          148 non-null float64\n",
      "Generosity                       148 non-null float64\n",
      "Trust (Government Corruption)    148 non-null float64\n",
      "Dystopia Residual                148 non-null float64\n",
      "dtypes: float64(8)\n",
      "memory usage: 10.4 KB\n"
     ]
    }
   ],
   "source": [
    "sort_2015.info()\n",
    "sort_2016.info()\n",
    "sort_2017.info()"
   ]
  },
  {
   "cell_type": "code",
   "execution_count": 9,
   "metadata": {},
   "outputs": [
    {
     "name": "stdout",
     "output_type": "stream",
     "text": [
      "Mean Absolute Error: 0.11371956925675678\n"
     ]
    }
   ],
   "source": [
    "mse = mean_absolute_error(sort_2016,sort_2015)\n",
    "print('Mean Absolute Error:', mse)"
   ]
  },
  {
   "cell_type": "code",
   "execution_count": 10,
   "metadata": {
    "scrolled": true
   },
   "outputs": [
    {
     "name": "stdout",
     "output_type": "stream",
     "text": [
      "Mean Absolute Error: 0.18221752275516215\n"
     ]
    }
   ],
   "source": [
    "mse = mean_absolute_error(sort_2017,sort_2016)\n",
    "print('Mean Absolute Error:', mse)"
   ]
  },
  {
   "cell_type": "code",
   "execution_count": 11,
   "metadata": {
    "scrolled": false
   },
   "outputs": [
    {
     "name": "stdout",
     "output_type": "stream",
     "text": [
      "Mean Absolute Error: 0.17667612606146815\n"
     ]
    }
   ],
   "source": [
    "mse = mean_absolute_error(sort_2017,sort_2015)\n",
    "print('Mean Absolute Error:', mse)"
   ]
  },
  {
   "cell_type": "code",
   "execution_count": 12,
   "metadata": {
    "scrolled": true
   },
   "outputs": [
    {
     "name": "stderr",
     "output_type": "stream",
     "text": [
      "/anaconda3/lib/python3.7/site-packages/ipykernel_launcher.py:2: FutureWarning: Sorting because non-concatenation axis is not aligned. A future version\n",
      "of pandas will change to not sort by default.\n",
      "\n",
      "To accept the future behavior, pass 'sort=False'.\n",
      "\n",
      "To retain the current behavior and silence the warning, pass 'sort=True'.\n",
      "\n",
      "  \n"
     ]
    },
    {
     "data": {
      "text/html": [
       "<div>\n",
       "<style scoped>\n",
       "    .dataframe tbody tr th:only-of-type {\n",
       "        vertical-align: middle;\n",
       "    }\n",
       "\n",
       "    .dataframe tbody tr th {\n",
       "        vertical-align: top;\n",
       "    }\n",
       "\n",
       "    .dataframe thead th {\n",
       "        text-align: right;\n",
       "    }\n",
       "</style>\n",
       "<table border=\"1\" class=\"dataframe\">\n",
       "  <thead>\n",
       "    <tr style=\"text-align: right;\">\n",
       "      <th></th>\n",
       "      <th>Dystopia Residual</th>\n",
       "      <th>Economy (GDP per Capita)</th>\n",
       "      <th>Family</th>\n",
       "      <th>Freedom</th>\n",
       "      <th>Generosity</th>\n",
       "      <th>Happiness Score</th>\n",
       "      <th>Health (Life Expectancy)</th>\n",
       "      <th>Trust (Government Corruption)</th>\n",
       "    </tr>\n",
       "  </thead>\n",
       "  <tbody>\n",
       "    <tr>\n",
       "      <th>count</th>\n",
       "      <td>444.000000</td>\n",
       "      <td>444.000000</td>\n",
       "      <td>444.000000</td>\n",
       "      <td>444.000000</td>\n",
       "      <td>444.000000</td>\n",
       "      <td>444.000000</td>\n",
       "      <td>444.000000</td>\n",
       "      <td>444.000000</td>\n",
       "    </tr>\n",
       "    <tr>\n",
       "      <th>mean</th>\n",
       "      <td>2.073015</td>\n",
       "      <td>0.950083</td>\n",
       "      <td>1.003009</td>\n",
       "      <td>0.401457</td>\n",
       "      <td>0.242039</td>\n",
       "      <td>5.397698</td>\n",
       "      <td>0.595709</td>\n",
       "      <td>0.132379</td>\n",
       "    </tr>\n",
       "    <tr>\n",
       "      <th>std</th>\n",
       "      <td>0.559464</td>\n",
       "      <td>0.405180</td>\n",
       "      <td>0.313089</td>\n",
       "      <td>0.150071</td>\n",
       "      <td>0.132646</td>\n",
       "      <td>1.138309</td>\n",
       "      <td>0.231993</td>\n",
       "      <td>0.111604</td>\n",
       "    </tr>\n",
       "    <tr>\n",
       "      <th>min</th>\n",
       "      <td>0.328580</td>\n",
       "      <td>0.000000</td>\n",
       "      <td>0.000000</td>\n",
       "      <td>0.000000</td>\n",
       "      <td>0.000000</td>\n",
       "      <td>2.839000</td>\n",
       "      <td>0.000000</td>\n",
       "      <td>0.000000</td>\n",
       "    </tr>\n",
       "    <tr>\n",
       "      <th>25%</th>\n",
       "      <td>1.726444</td>\n",
       "      <td>0.647590</td>\n",
       "      <td>0.811422</td>\n",
       "      <td>0.295713</td>\n",
       "      <td>0.149619</td>\n",
       "      <td>4.512750</td>\n",
       "      <td>0.440428</td>\n",
       "      <td>0.058570</td>\n",
       "    </tr>\n",
       "    <tr>\n",
       "      <th>50%</th>\n",
       "      <td>2.083533</td>\n",
       "      <td>1.015730</td>\n",
       "      <td>1.034090</td>\n",
       "      <td>0.415895</td>\n",
       "      <td>0.223870</td>\n",
       "      <td>5.319000</td>\n",
       "      <td>0.638287</td>\n",
       "      <td>0.094455</td>\n",
       "    </tr>\n",
       "    <tr>\n",
       "      <th>75%</th>\n",
       "      <td>2.444082</td>\n",
       "      <td>1.272072</td>\n",
       "      <td>1.239170</td>\n",
       "      <td>0.514542</td>\n",
       "      <td>0.316964</td>\n",
       "      <td>6.299000</td>\n",
       "      <td>0.787435</td>\n",
       "      <td>0.171712</td>\n",
       "    </tr>\n",
       "    <tr>\n",
       "      <th>max</th>\n",
       "      <td>3.602140</td>\n",
       "      <td>1.870766</td>\n",
       "      <td>1.610574</td>\n",
       "      <td>0.669730</td>\n",
       "      <td>0.838075</td>\n",
       "      <td>7.587000</td>\n",
       "      <td>1.025250</td>\n",
       "      <td>0.551910</td>\n",
       "    </tr>\n",
       "  </tbody>\n",
       "</table>\n",
       "</div>"
      ],
      "text/plain": [
       "       Dystopia Residual  Economy (GDP per Capita)      Family     Freedom  \\\n",
       "count         444.000000                444.000000  444.000000  444.000000   \n",
       "mean            2.073015                  0.950083    1.003009    0.401457   \n",
       "std             0.559464                  0.405180    0.313089    0.150071   \n",
       "min             0.328580                  0.000000    0.000000    0.000000   \n",
       "25%             1.726444                  0.647590    0.811422    0.295713   \n",
       "50%             2.083533                  1.015730    1.034090    0.415895   \n",
       "75%             2.444082                  1.272072    1.239170    0.514542   \n",
       "max             3.602140                  1.870766    1.610574    0.669730   \n",
       "\n",
       "       Generosity  Happiness Score  Health (Life Expectancy)  \\\n",
       "count  444.000000       444.000000                444.000000   \n",
       "mean     0.242039         5.397698                  0.595709   \n",
       "std      0.132646         1.138309                  0.231993   \n",
       "min      0.000000         2.839000                  0.000000   \n",
       "25%      0.149619         4.512750                  0.440428   \n",
       "50%      0.223870         5.319000                  0.638287   \n",
       "75%      0.316964         6.299000                  0.787435   \n",
       "max      0.838075         7.587000                  1.025250   \n",
       "\n",
       "       Trust (Government Corruption)  \n",
       "count                     444.000000  \n",
       "mean                        0.132379  \n",
       "std                         0.111604  \n",
       "min                         0.000000  \n",
       "25%                         0.058570  \n",
       "50%                         0.094455  \n",
       "75%                         0.171712  \n",
       "max                         0.551910  "
      ]
     },
     "execution_count": 12,
     "metadata": {},
     "output_type": "execute_result"
    }
   ],
   "source": [
    "frames = [sort_2015, sort_2016, sort_2017]\n",
    "happiness = pd.concat(frames)\n",
    "happiness.describe()"
   ]
  },
  {
   "cell_type": "code",
   "execution_count": 13,
   "metadata": {},
   "outputs": [
    {
     "data": {
      "text/html": [
       "<div>\n",
       "<style scoped>\n",
       "    .dataframe tbody tr th:only-of-type {\n",
       "        vertical-align: middle;\n",
       "    }\n",
       "\n",
       "    .dataframe tbody tr th {\n",
       "        vertical-align: top;\n",
       "    }\n",
       "\n",
       "    .dataframe thead th {\n",
       "        text-align: right;\n",
       "    }\n",
       "</style>\n",
       "<table border=\"1\" class=\"dataframe\">\n",
       "  <thead>\n",
       "    <tr style=\"text-align: right;\">\n",
       "      <th></th>\n",
       "      <th>Dystopia Residual</th>\n",
       "      <th>Economy (GDP per Capita)</th>\n",
       "      <th>Family</th>\n",
       "      <th>Freedom</th>\n",
       "      <th>Generosity</th>\n",
       "      <th>Happiness Score</th>\n",
       "      <th>Health (Life Expectancy)</th>\n",
       "      <th>Trust (Government Corruption)</th>\n",
       "    </tr>\n",
       "  </thead>\n",
       "  <tbody>\n",
       "    <tr>\n",
       "      <th>Dystopia Residual</th>\n",
       "      <td>1.000000</td>\n",
       "      <td>0.072799</td>\n",
       "      <td>-0.050322</td>\n",
       "      <td>0.016700</td>\n",
       "      <td>-0.125101</td>\n",
       "      <td>0.510947</td>\n",
       "      <td>0.106436</td>\n",
       "      <td>-0.019515</td>\n",
       "    </tr>\n",
       "    <tr>\n",
       "      <th>Economy (GDP per Capita)</th>\n",
       "      <td>0.072799</td>\n",
       "      <td>1.000000</td>\n",
       "      <td>0.575049</td>\n",
       "      <td>0.365439</td>\n",
       "      <td>0.004088</td>\n",
       "      <td>0.793167</td>\n",
       "      <td>0.781166</td>\n",
       "      <td>0.361323</td>\n",
       "    </tr>\n",
       "    <tr>\n",
       "      <th>Family</th>\n",
       "      <td>-0.050322</td>\n",
       "      <td>0.575049</td>\n",
       "      <td>1.000000</td>\n",
       "      <td>0.463959</td>\n",
       "      <td>0.089131</td>\n",
       "      <td>0.641391</td>\n",
       "      <td>0.473485</td>\n",
       "      <td>0.187104</td>\n",
       "    </tr>\n",
       "    <tr>\n",
       "      <th>Freedom</th>\n",
       "      <td>0.016700</td>\n",
       "      <td>0.365439</td>\n",
       "      <td>0.463959</td>\n",
       "      <td>1.000000</td>\n",
       "      <td>0.352238</td>\n",
       "      <td>0.565773</td>\n",
       "      <td>0.383585</td>\n",
       "      <td>0.498016</td>\n",
       "    </tr>\n",
       "    <tr>\n",
       "      <th>Generosity</th>\n",
       "      <td>-0.125101</td>\n",
       "      <td>0.004088</td>\n",
       "      <td>0.089131</td>\n",
       "      <td>0.352238</td>\n",
       "      <td>1.000000</td>\n",
       "      <td>0.171145</td>\n",
       "      <td>0.083067</td>\n",
       "      <td>0.272855</td>\n",
       "    </tr>\n",
       "    <tr>\n",
       "      <th>Happiness Score</th>\n",
       "      <td>0.510947</td>\n",
       "      <td>0.793167</td>\n",
       "      <td>0.641391</td>\n",
       "      <td>0.565773</td>\n",
       "      <td>0.171145</td>\n",
       "      <td>1.000000</td>\n",
       "      <td>0.754219</td>\n",
       "      <td>0.427469</td>\n",
       "    </tr>\n",
       "    <tr>\n",
       "      <th>Health (Life Expectancy)</th>\n",
       "      <td>0.106436</td>\n",
       "      <td>0.781166</td>\n",
       "      <td>0.473485</td>\n",
       "      <td>0.383585</td>\n",
       "      <td>0.083067</td>\n",
       "      <td>0.754219</td>\n",
       "      <td>1.000000</td>\n",
       "      <td>0.301782</td>\n",
       "    </tr>\n",
       "    <tr>\n",
       "      <th>Trust (Government Corruption)</th>\n",
       "      <td>-0.019515</td>\n",
       "      <td>0.361323</td>\n",
       "      <td>0.187104</td>\n",
       "      <td>0.498016</td>\n",
       "      <td>0.272855</td>\n",
       "      <td>0.427469</td>\n",
       "      <td>0.301782</td>\n",
       "      <td>1.000000</td>\n",
       "    </tr>\n",
       "  </tbody>\n",
       "</table>\n",
       "</div>"
      ],
      "text/plain": [
       "                               Dystopia Residual  Economy (GDP per Capita)  \\\n",
       "Dystopia Residual                       1.000000                  0.072799   \n",
       "Economy (GDP per Capita)                0.072799                  1.000000   \n",
       "Family                                 -0.050322                  0.575049   \n",
       "Freedom                                 0.016700                  0.365439   \n",
       "Generosity                             -0.125101                  0.004088   \n",
       "Happiness Score                         0.510947                  0.793167   \n",
       "Health (Life Expectancy)                0.106436                  0.781166   \n",
       "Trust (Government Corruption)          -0.019515                  0.361323   \n",
       "\n",
       "                                 Family   Freedom  Generosity  \\\n",
       "Dystopia Residual             -0.050322  0.016700   -0.125101   \n",
       "Economy (GDP per Capita)       0.575049  0.365439    0.004088   \n",
       "Family                         1.000000  0.463959    0.089131   \n",
       "Freedom                        0.463959  1.000000    0.352238   \n",
       "Generosity                     0.089131  0.352238    1.000000   \n",
       "Happiness Score                0.641391  0.565773    0.171145   \n",
       "Health (Life Expectancy)       0.473485  0.383585    0.083067   \n",
       "Trust (Government Corruption)  0.187104  0.498016    0.272855   \n",
       "\n",
       "                               Happiness Score  Health (Life Expectancy)  \\\n",
       "Dystopia Residual                     0.510947                  0.106436   \n",
       "Economy (GDP per Capita)              0.793167                  0.781166   \n",
       "Family                                0.641391                  0.473485   \n",
       "Freedom                               0.565773                  0.383585   \n",
       "Generosity                            0.171145                  0.083067   \n",
       "Happiness Score                       1.000000                  0.754219   \n",
       "Health (Life Expectancy)              0.754219                  1.000000   \n",
       "Trust (Government Corruption)         0.427469                  0.301782   \n",
       "\n",
       "                               Trust (Government Corruption)  \n",
       "Dystopia Residual                                  -0.019515  \n",
       "Economy (GDP per Capita)                            0.361323  \n",
       "Family                                              0.187104  \n",
       "Freedom                                             0.498016  \n",
       "Generosity                                          0.272855  \n",
       "Happiness Score                                     0.427469  \n",
       "Health (Life Expectancy)                            0.301782  \n",
       "Trust (Government Corruption)                       1.000000  "
      ]
     },
     "execution_count": 13,
     "metadata": {},
     "output_type": "execute_result"
    }
   ],
   "source": [
    "happiness.corr()"
   ]
  },
  {
   "cell_type": "code",
   "execution_count": 14,
   "metadata": {
    "scrolled": true
   },
   "outputs": [
    {
     "data": {
      "text/plain": [
       "<matplotlib.axes._subplots.AxesSubplot at 0x1a17df8e80>"
      ]
     },
     "execution_count": 14,
     "metadata": {},
     "output_type": "execute_result"
    },
    {
     "data": {
      "image/png": "[encoded data removed]",
      "text/plain": [
       "<Figure size 432x288 with 2 Axes>"
      ]
     },
     "metadata": {
      "needs_background": "light"
     },
     "output_type": "display_data"
    }
   ],
   "source": [
    "corr = happiness.corr()\n",
    "sns.heatmap(corr, xticklabels=corr.columns.values, yticklabels=corr.columns.values)"
   ]
  },
  {
   "cell_type": "code",
   "execution_count": 15,
   "metadata": {},
   "outputs": [],
   "source": [
    "#Most Related Columns: Economy (GDP per Capita)\tHealth (Life Expectancy)\tTrust (Government Corruption)"
   ]
  },
  {
   "cell_type": "code",
   "execution_count": 16,
   "metadata": {
    "scrolled": false
   },
   "outputs": [
    {
     "data": {
      "text/html": [
       "<div>\n",
       "<style scoped>\n",
       "    .dataframe tbody tr th:only-of-type {\n",
       "        vertical-align: middle;\n",
       "    }\n",
       "\n",
       "    .dataframe tbody tr th {\n",
       "        vertical-align: top;\n",
       "    }\n",
       "\n",
       "    .dataframe thead th {\n",
       "        text-align: right;\n",
       "    }\n",
       "</style>\n",
       "<table border=\"1\" class=\"dataframe\">\n",
       "  <thead>\n",
       "    <tr style=\"text-align: right;\">\n",
       "      <th></th>\n",
       "      <th>Economy (GDP per Capita)</th>\n",
       "      <th>Health (Life Expectancy)</th>\n",
       "      <th>Trust (Government Corruption)</th>\n",
       "    </tr>\n",
       "  </thead>\n",
       "  <tbody>\n",
       "    <tr>\n",
       "      <th>144</th>\n",
       "      <td>0.38227</td>\n",
       "      <td>0.17344</td>\n",
       "      <td>0.07112</td>\n",
       "    </tr>\n",
       "    <tr>\n",
       "      <th>102</th>\n",
       "      <td>0.95530</td>\n",
       "      <td>0.73007</td>\n",
       "      <td>0.05301</td>\n",
       "    </tr>\n",
       "    <tr>\n",
       "      <th>36</th>\n",
       "      <td>1.05266</td>\n",
       "      <td>0.61804</td>\n",
       "      <td>0.16157</td>\n",
       "    </tr>\n",
       "    <tr>\n",
       "      <th>132</th>\n",
       "      <td>0.84731</td>\n",
       "      <td>0.04991</td>\n",
       "      <td>0.08434</td>\n",
       "    </tr>\n",
       "    <tr>\n",
       "      <th>24</th>\n",
       "      <td>1.15137</td>\n",
       "      <td>0.69711</td>\n",
       "      <td>0.07296</td>\n",
       "    </tr>\n",
       "  </tbody>\n",
       "</table>\n",
       "</div>"
      ],
      "text/plain": [
       "     Economy (GDP per Capita)  Health (Life Expectancy)  \\\n",
       "144                   0.38227                   0.17344   \n",
       "102                   0.95530                   0.73007   \n",
       "36                    1.05266                   0.61804   \n",
       "132                   0.84731                   0.04991   \n",
       "24                    1.15137                   0.69711   \n",
       "\n",
       "     Trust (Government Corruption)  \n",
       "144                        0.07112  \n",
       "102                        0.05301  \n",
       "36                         0.16157  \n",
       "132                        0.08434  \n",
       "24                         0.07296  "
      ]
     },
     "execution_count": 16,
     "metadata": {},
     "output_type": "execute_result"
    }
   ],
   "source": [
    "columns_2 = ['Happiness Score', 'Family','Freedom','Generosity', 'Dystopia Residual']\n",
    "temp_dataframe = sort_2016.drop(columns_2, axis=1)\n",
    "X = temp_dataframe\n",
    "X.head()"
   ]
  },
  {
   "cell_type": "code",
   "execution_count": 17,
   "metadata": {},
   "outputs": [
    {
     "name": "stdout",
     "output_type": "stream",
     "text": [
      "LinearRegression(copy_X=True, fit_intercept=True, n_jobs=None,\n",
      "         normalize=False)\n"
     ]
    }
   ],
   "source": [
    "label='Happiness Score'\n",
    "y = hap_16[label]\n",
    "regressor = LinearRegression()\n",
    "model = regressor.fit(X,y)\n",
    "print(model)"
   ]
  },
  {
   "cell_type": "code",
   "execution_count": 18,
   "metadata": {},
   "outputs": [],
   "source": [
    "new_features = ['Trust (Government Corruption)','Health (Life Expectancy)','Economy (GDP per Capita)']\n",
    "train_x = sort0_2017[new_features]\n",
    "train_y = sort0_2017[label]\n",
    "prediction = regressor.predict(train_x)"
   ]
  },
  {
   "cell_type": "code",
   "execution_count": 19,
   "metadata": {
    "scrolled": true
   },
   "outputs": [
    {
     "data": {
      "text/html": [
       "<div>\n",
       "<style scoped>\n",
       "    .dataframe tbody tr th:only-of-type {\n",
       "        vertical-align: middle;\n",
       "    }\n",
       "\n",
       "    .dataframe tbody tr th {\n",
       "        vertical-align: top;\n",
       "    }\n",
       "\n",
       "    .dataframe thead th {\n",
       "        text-align: right;\n",
       "    }\n",
       "</style>\n",
       "<table border=\"1\" class=\"dataframe\">\n",
       "  <thead>\n",
       "    <tr style=\"text-align: right;\">\n",
       "      <th></th>\n",
       "      <th>Original Happiness Score</th>\n",
       "      <th>Predicted 2018 Happiness Score</th>\n",
       "    </tr>\n",
       "  </thead>\n",
       "  <tbody>\n",
       "    <tr>\n",
       "      <th>134</th>\n",
       "      <td>3.794</td>\n",
       "      <td>5.198511</td>\n",
       "    </tr>\n",
       "    <tr>\n",
       "      <th>106</th>\n",
       "      <td>4.644</td>\n",
       "      <td>4.850852</td>\n",
       "    </tr>\n",
       "    <tr>\n",
       "      <th>51</th>\n",
       "      <td>5.872</td>\n",
       "      <td>4.777943</td>\n",
       "    </tr>\n",
       "    <tr>\n",
       "      <th>133</th>\n",
       "      <td>3.795</td>\n",
       "      <td>4.888381</td>\n",
       "    </tr>\n",
       "    <tr>\n",
       "      <th>23</th>\n",
       "      <td>6.599</td>\n",
       "      <td>4.723699</td>\n",
       "    </tr>\n",
       "  </tbody>\n",
       "</table>\n",
       "</div>"
      ],
      "text/plain": [
       "     Original Happiness Score  Predicted 2018 Happiness Score\n",
       "134                     3.794                        5.198511\n",
       "106                     4.644                        4.850852\n",
       "51                      5.872                        4.777943\n",
       "133                     3.795                        4.888381\n",
       "23                      6.599                        4.723699"
      ]
     },
     "execution_count": 19,
     "metadata": {},
     "output_type": "execute_result"
    }
   ],
   "source": [
    "temp_df = pd.DataFrame()\n",
    "temp_df['Original Happiness Score'] = train_y\n",
    "temp_df['Predicted 2018 Happiness Score'] = prediction \n",
    "temp_df.head()"
   ]
  },
  {
   "cell_type": "code",
   "execution_count": 20,
   "metadata": {},
   "outputs": [],
   "source": [
    "temp_df['Country'] = sort0_2017['Country']"
   ]
  },
  {
   "cell_type": "code",
   "execution_count": 21,
   "metadata": {},
   "outputs": [
    {
     "data": {
      "text/plain": [
       "<matplotlib.axes._subplots.AxesSubplot at 0x1042b4a58>"
      ]
     },
     "execution_count": 21,
     "metadata": {},
     "output_type": "execute_result"
    },
    {
     "data": {
      "image/png": "[encoded data removed]",
      "text/plain": [
       "<Figure size 432x288 with 1 Axes>"
      ]
     },
     "metadata": {
      "needs_background": "light"
     },
     "output_type": "display_data"
    }
   ],
   "source": [
    "temp_df.plot(x='Original Happiness Score', y='Predicted 2018 Happiness Score', style='o')"
   ]
  },
  {
   "cell_type": "code",
   "execution_count": 22,
   "metadata": {},
   "outputs": [
    {
     "name": "stdout",
     "output_type": "stream",
     "text": [
      "Mean Squared Error Value: 1.4459898911608933\n",
      "Mean Absolute Error: 1.2076840546364256\n"
     ]
    }
   ],
   "source": [
    "mse = mean_absolute_error(sort0_2017[label],prediction)\n",
    "mean_squared_error_value = sqrt(mean_squared_error(y_true=train_y,y_pred=prediction))\n",
    "print('Mean Squared Error Value:', mean_squared_error_value)\n",
    "print('Mean Absolute Error:', mse)"
   ]
  },
  {
   "cell_type": "code",
   "execution_count": 23,
   "metadata": {},
   "outputs": [
    {
     "data": {
      "text/html": [
       "<div>\n",
       "<style scoped>\n",
       "    .dataframe tbody tr th:only-of-type {\n",
       "        vertical-align: middle;\n",
       "    }\n",
       "\n",
       "    .dataframe tbody tr th {\n",
       "        vertical-align: top;\n",
       "    }\n",
       "\n",
       "    .dataframe thead th {\n",
       "        text-align: right;\n",
       "    }\n",
       "</style>\n",
       "<table border=\"1\" class=\"dataframe\">\n",
       "  <thead>\n",
       "    <tr style=\"text-align: right;\">\n",
       "      <th></th>\n",
       "      <th>Economy (GDP per Capita)</th>\n",
       "      <th>Health (Life Expectancy)</th>\n",
       "      <th>Trust (Government Corruption)</th>\n",
       "    </tr>\n",
       "  </thead>\n",
       "  <tbody>\n",
       "    <tr>\n",
       "      <th>144</th>\n",
       "      <td>0.38227</td>\n",
       "      <td>0.17344</td>\n",
       "      <td>0.07112</td>\n",
       "    </tr>\n",
       "    <tr>\n",
       "      <th>102</th>\n",
       "      <td>0.95530</td>\n",
       "      <td>0.73007</td>\n",
       "      <td>0.05301</td>\n",
       "    </tr>\n",
       "    <tr>\n",
       "      <th>36</th>\n",
       "      <td>1.05266</td>\n",
       "      <td>0.61804</td>\n",
       "      <td>0.16157</td>\n",
       "    </tr>\n",
       "    <tr>\n",
       "      <th>132</th>\n",
       "      <td>0.84731</td>\n",
       "      <td>0.04991</td>\n",
       "      <td>0.08434</td>\n",
       "    </tr>\n",
       "    <tr>\n",
       "      <th>24</th>\n",
       "      <td>1.15137</td>\n",
       "      <td>0.69711</td>\n",
       "      <td>0.07296</td>\n",
       "    </tr>\n",
       "  </tbody>\n",
       "</table>\n",
       "</div>"
      ],
      "text/plain": [
       "     Economy (GDP per Capita)  Health (Life Expectancy)  \\\n",
       "144                   0.38227                   0.17344   \n",
       "102                   0.95530                   0.73007   \n",
       "36                    1.05266                   0.61804   \n",
       "132                   0.84731                   0.04991   \n",
       "24                    1.15137                   0.69711   \n",
       "\n",
       "     Trust (Government Corruption)  \n",
       "144                        0.07112  \n",
       "102                        0.05301  \n",
       "36                         0.16157  \n",
       "132                        0.08434  \n",
       "24                         0.07296  "
      ]
     },
     "execution_count": 23,
     "metadata": {},
     "output_type": "execute_result"
    }
   ],
   "source": [
    "columns_2 = ['Happiness Score', 'Family','Freedom','Generosity', 'Dystopia Residual']\n",
    "temp_dataframe2 = happiness.drop(columns_2, axis=1)\n",
    "X2 = temp_dataframe\n",
    "X2.head()"
   ]
  },
  {
   "cell_type": "code",
   "execution_count": 24,
   "metadata": {},
   "outputs": [
    {
     "name": "stdout",
     "output_type": "stream",
     "text": [
      "LinearRegression(copy_X=True, fit_intercept=True, n_jobs=None,\n",
      "         normalize=False)\n"
     ]
    }
   ],
   "source": [
    "label='Happiness Score'\n",
    "y2 = hap_17[label]\n",
    "regressor2 = LinearRegression()\n",
    "model2 = regressor2.fit(X2,y)\n",
    "print(model2)"
   ]
  },
  {
   "cell_type": "code",
   "execution_count": 25,
   "metadata": {},
   "outputs": [],
   "source": [
    "new_features = ['Trust (Government Corruption)','Health (Life Expectancy)','Economy (GDP per Capita)']\n",
    "train_x2 = happiness[new_features]\n",
    "train_y2 = happiness[label]\n",
    "prediction2 = regressor2.predict(train_x2)"
   ]
  },
  {
   "cell_type": "code",
   "execution_count": 26,
   "metadata": {},
   "outputs": [
    {
     "data": {
      "text/html": [
       "<div>\n",
       "<style scoped>\n",
       "    .dataframe tbody tr th:only-of-type {\n",
       "        vertical-align: middle;\n",
       "    }\n",
       "\n",
       "    .dataframe tbody tr th {\n",
       "        vertical-align: top;\n",
       "    }\n",
       "\n",
       "    .dataframe thead th {\n",
       "        text-align: right;\n",
       "    }\n",
       "</style>\n",
       "<table border=\"1\" class=\"dataframe\">\n",
       "  <thead>\n",
       "    <tr style=\"text-align: right;\">\n",
       "      <th></th>\n",
       "      <th>Original Happiness Score</th>\n",
       "      <th>Predicted 2018 Happiness Score</th>\n",
       "    </tr>\n",
       "  </thead>\n",
       "  <tbody>\n",
       "    <tr>\n",
       "      <th>142</th>\n",
       "      <td>3.575</td>\n",
       "      <td>5.261098</td>\n",
       "    </tr>\n",
       "    <tr>\n",
       "      <th>90</th>\n",
       "      <td>4.959</td>\n",
       "      <td>4.934009</td>\n",
       "    </tr>\n",
       "    <tr>\n",
       "      <th>65</th>\n",
       "      <td>5.605</td>\n",
       "      <td>4.877741</td>\n",
       "    </tr>\n",
       "    <tr>\n",
       "      <th>128</th>\n",
       "      <td>4.033</td>\n",
       "      <td>4.963441</td>\n",
       "    </tr>\n",
       "    <tr>\n",
       "      <th>28</th>\n",
       "      <td>6.574</td>\n",
       "      <td>4.816977</td>\n",
       "    </tr>\n",
       "  </tbody>\n",
       "</table>\n",
       "</div>"
      ],
      "text/plain": [
       "     Original Happiness Score  Predicted 2018 Happiness Score\n",
       "142                     3.575                        5.261098\n",
       "90                      4.959                        4.934009\n",
       "65                      5.605                        4.877741\n",
       "128                     4.033                        4.963441\n",
       "28                      6.574                        4.816977"
      ]
     },
     "execution_count": 26,
     "metadata": {},
     "output_type": "execute_result"
    }
   ],
   "source": [
    "temp_df2 = pd.DataFrame()\n",
    "temp_df2['Original Happiness Score'] = train_y2\n",
    "temp_df2['Predicted 2018 Happiness Score'] = prediction2 \n",
    "temp_df2.head()"
   ]
  },
  {
   "cell_type": "code",
   "execution_count": 27,
   "metadata": {},
   "outputs": [
    {
     "name": "stdout",
     "output_type": "stream",
     "text": [
      "Mean Squared Error Value: 1.4441148896327132\n",
      "Mean Absolute Error: 1.2019602460177359\n"
     ]
    }
   ],
   "source": [
    "mse2 = mean_absolute_error(happiness[label],prediction2)\n",
    "mean_squared_error_value2 = sqrt(mean_squared_error(y_true=train_y2,y_pred=prediction2))\n",
    "print('Mean Squared Error Value:', mean_squared_error_value2)\n",
    "print('Mean Absolute Error:', mse2)"
   ]
  },
  {
   "cell_type": "code",
   "execution_count": 28,
   "metadata": {
    "scrolled": false
   },
   "outputs": [
    {
     "data": {
      "text/html": [
       "<div>\n",
       "<style scoped>\n",
       "    .dataframe tbody tr th:only-of-type {\n",
       "        vertical-align: middle;\n",
       "    }\n",
       "\n",
       "    .dataframe tbody tr th {\n",
       "        vertical-align: top;\n",
       "    }\n",
       "\n",
       "    .dataframe thead th {\n",
       "        text-align: right;\n",
       "    }\n",
       "</style>\n",
       "<table border=\"1\" class=\"dataframe\">\n",
       "  <thead>\n",
       "    <tr style=\"text-align: right;\">\n",
       "      <th></th>\n",
       "      <th>Happiness Rank</th>\n",
       "      <th>Country</th>\n",
       "      <th>Happiness Score</th>\n",
       "      <th>Economy (GDP per Capita)</th>\n",
       "      <th>Social Support</th>\n",
       "      <th>Health (Life Expectancy)</th>\n",
       "      <th>Freedom</th>\n",
       "      <th>Generosity</th>\n",
       "      <th>Trust (Government Corruption)</th>\n",
       "      <th>Dystopia Residual</th>\n",
       "    </tr>\n",
       "  </thead>\n",
       "  <tbody>\n",
       "    <tr>\n",
       "      <th>98</th>\n",
       "      <td>145</td>\n",
       "      <td>Afghanistan</td>\n",
       "      <td>3.632</td>\n",
       "      <td>0.332</td>\n",
       "      <td>0.537</td>\n",
       "      <td>0.255</td>\n",
       "      <td>0.085</td>\n",
       "      <td>0.191</td>\n",
       "      <td>0.036</td>\n",
       "      <td>2.232</td>\n",
       "    </tr>\n",
       "    <tr>\n",
       "      <th>20</th>\n",
       "      <td>112</td>\n",
       "      <td>Albania</td>\n",
       "      <td>4.586</td>\n",
       "      <td>0.916</td>\n",
       "      <td>0.817</td>\n",
       "      <td>0.790</td>\n",
       "      <td>0.419</td>\n",
       "      <td>0.149</td>\n",
       "      <td>0.032</td>\n",
       "      <td>1.495</td>\n",
       "    </tr>\n",
       "    <tr>\n",
       "      <th>104</th>\n",
       "      <td>84</td>\n",
       "      <td>Algeria</td>\n",
       "      <td>5.295</td>\n",
       "      <td>0.979</td>\n",
       "      <td>1.154</td>\n",
       "      <td>0.687</td>\n",
       "      <td>0.077</td>\n",
       "      <td>0.055</td>\n",
       "      <td>0.135</td>\n",
       "      <td>2.343</td>\n",
       "    </tr>\n",
       "    <tr>\n",
       "      <th>30</th>\n",
       "      <td>142</td>\n",
       "      <td>Angola</td>\n",
       "      <td>3.795</td>\n",
       "      <td>0.730</td>\n",
       "      <td>1.125</td>\n",
       "      <td>0.269</td>\n",
       "      <td>0.000</td>\n",
       "      <td>0.079</td>\n",
       "      <td>0.061</td>\n",
       "      <td>1.592</td>\n",
       "    </tr>\n",
       "    <tr>\n",
       "      <th>116</th>\n",
       "      <td>29</td>\n",
       "      <td>Argentina</td>\n",
       "      <td>6.388</td>\n",
       "      <td>1.073</td>\n",
       "      <td>1.468</td>\n",
       "      <td>0.744</td>\n",
       "      <td>0.570</td>\n",
       "      <td>0.062</td>\n",
       "      <td>0.054</td>\n",
       "      <td>2.471</td>\n",
       "    </tr>\n",
       "  </tbody>\n",
       "</table>\n",
       "</div>"
      ],
      "text/plain": [
       "     Happiness Rank      Country  Happiness Score  Economy (GDP per Capita)  \\\n",
       "98              145  Afghanistan            3.632                     0.332   \n",
       "20              112      Albania            4.586                     0.916   \n",
       "104              84      Algeria            5.295                     0.979   \n",
       "30              142       Angola            3.795                     0.730   \n",
       "116              29    Argentina            6.388                     1.073   \n",
       "\n",
       "     Social Support  Health (Life Expectancy)  Freedom  Generosity  \\\n",
       "98            0.537                     0.255    0.085       0.191   \n",
       "20            0.817                     0.790    0.419       0.149   \n",
       "104           1.154                     0.687    0.077       0.055   \n",
       "30            1.125                     0.269    0.000       0.079   \n",
       "116           1.468                     0.744    0.570       0.062   \n",
       "\n",
       "     Trust (Government Corruption)  Dystopia Residual  \n",
       "98                           0.036              2.232  \n",
       "20                           0.032              1.495  \n",
       "104                          0.135              2.343  \n",
       "30                           0.061              1.592  \n",
       "116                          0.054              2.471  "
      ]
     },
     "execution_count": 28,
     "metadata": {},
     "output_type": "execute_result"
    }
   ],
   "source": [
    "hap_18 = pd.read_csv(\"2018.csv\")\n",
    "new_2018 = hap_18.sort_values(by=['Country'])\n",
    "new_2018.head()"
   ]
  },
  {
   "cell_type": "code",
   "execution_count": 29,
   "metadata": {
    "scrolled": false
   },
   "outputs": [
    {
     "name": "stdout",
     "output_type": "stream",
     "text": [
      "Mean Absolute Error: 1.0221023243784515\n"
     ]
    }
   ],
   "source": [
    "mse3 = mean_absolute_error(hap_18['Happiness Score'],prediction)\n",
    "print('Mean Absolute Error:', mse3)"
   ]
  },
  {
   "cell_type": "code",
   "execution_count": null,
   "metadata": {},
   "outputs": [],
   "source": []
  }
 ],
 "metadata": {
  "kernelspec": {
   "display_name": "Python 3",
   "language": "python",
   "name": "python3"
  },
  "language_info": {
   "codemirror_mode": {
    "name": "ipython",
    "version": 3
   },
   "file_extension": ".py",
   "mimetype": "text/x-python",
   "name": "python",
   "nbconvert_exporter": "python",
   "pygments_lexer": "ipython3",
   "version": "3.7.3"
  }
 },
 "nbformat": 4,
 "nbformat_minor": 2
}
